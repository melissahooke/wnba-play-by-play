{
 "cells": [
  {
   "cell_type": "code",
   "execution_count": 198,
   "metadata": {},
   "outputs": [],
   "source": [
    "import requests\n",
    "from bs4 import BeautifulSoup\n",
    "import pandas as pd\n",
    "import re\n",
    "import espn_scraper as espn #https://github.com/andr3w321/espn_scraper\n",
    "\n",
    "def strzero(num):\n",
    "    num = str(num)\n",
    "    if len(num) == 1:\n",
    "        num = '0'+num\n",
    "    return(num)"
   ]
  },
  {
   "cell_type": "code",
   "execution_count": 199,
   "metadata": {},
   "outputs": [],
   "source": [
    "year = 2018\n",
    "month = 9\n",
    "day = 12\n",
    "date = '20190822'\n",
    "schedURL = 'https://www.espn.com/wnba/scoreboard/_/date/'+str(year)+strzero(month)+strzero(day)"
   ]
  },
  {
   "cell_type": "code",
   "execution_count": 200,
   "metadata": {},
   "outputs": [],
   "source": [
    "game_ids = []\n",
    "#years = list(range(1997,2021))\n",
    "years = [2020]\n",
    "years.reverse()"
   ]
  },
  {
   "cell_type": "code",
   "execution_count": 201,
   "metadata": {},
   "outputs": [
    {
     "data": {
      "text/plain": [
       "[2020]"
      ]
     },
     "execution_count": 201,
     "metadata": {},
     "output_type": "execute_result"
    }
   ],
   "source": [
    "years"
   ]
  },
  {
   "cell_type": "code",
   "execution_count": 202,
   "metadata": {},
   "outputs": [
    {
     "name": "stdout",
     "output_type": "stream",
     "text": [
      "[2020, 132]\n"
     ]
    }
   ],
   "source": [
    "#get all of the game ids ever\n",
    "for year in years:\n",
    "    prev_len = len(game_ids)\n",
    "    scoreboard_urls= espn.get_all_scoreboard_urls('wnba', year) \n",
    "    for scoreboard_url in scoreboard_urls:\n",
    "        data = espn.get_url(scoreboard_url, cached_path=\"cached_data\")\n",
    "        try:\n",
    "            for event in data['content']:  \n",
    "                if event['analytics']['gameId'] not in game_ids:\n",
    "                    game_ids.append(event['analytics']['gameId'])\n",
    "        except:\n",
    "            pass\n",
    "    print([year,len(game_ids)-prev_len])\n"
   ]
  },
  {
   "cell_type": "code",
   "execution_count": 203,
   "metadata": {},
   "outputs": [
    {
     "data": {
      "text/plain": [
       "132"
      ]
     },
     "execution_count": 203,
     "metadata": {},
     "output_type": "execute_result"
    }
   ],
   "source": [
    "len(game_ids)"
   ]
  },
  {
   "cell_type": "code",
   "execution_count": 204,
   "metadata": {},
   "outputs": [],
   "source": [
    "#if True:\n",
    "def get_game_data(GameID):\n",
    "    #first get all the game info\n",
    "    data_type = \"recap\"\n",
    "    url = espn.get_game_url(data_type, \"wnba\", GameID)\n",
    "    data = espn.get_url(url)\n",
    "    temp = data['gamepackageJSON']\n",
    "    temp = temp['header']   \n",
    "    #date\n",
    "    Date = temp['competitions'][0]['date']\n",
    "    #winning team\n",
    "    if temp['competitions'][0]['competitors'][0]['winner']: #check if 1st team won\n",
    "        WinningTeam = temp['competitions'][0]['competitors'][0]['team']['abbreviation']\n",
    "    else: #otehrwise 2nd team won\n",
    "        WinningTeam = temp['competitions'][0]['competitors'][1]['team']['abbreviation']\n",
    "    #regular season or playoffs?\n",
    "    gametypes = ['none','preseason','regular season','playoffs']\n",
    "    gametype_int = temp['season']['type']\n",
    "    GameType = gametypes[gametype_int]\n",
    "    \n",
    "    ########################################\n",
    "    #now get all the play-by-play\n",
    "    GameID = str(GameID)\n",
    "    URL = 'https://www.espn.com/wnba/playbyplay?gameId='+GameID\n",
    "    page = requests.get(URL)\n",
    "    soup = BeautifulSoup(page.content, 'html.parser')\n",
    "    \n",
    "    #teams\n",
    "    teams = [x.text for x in soup.find_all('span', class_='abbrev')]\n",
    "    AwayTeam = teams[0]\n",
    "    HomeTeam = teams[1]\n",
    "    teams = {teams[0]:'away',teams[1]:'home'}\n",
    "    \n",
    "    #scrape the shot description table\n",
    "    times = [x.text for x in soup.find_all('td', class_='time-stamp')]\n",
    "    plays = [x.text for x in soup.find_all('td', class_='game-details')]\n",
    "    score = [x.text for x in soup.find_all('td', class_='combined-score')]\n",
    "    \n",
    "    #get team names from the logo image urls\n",
    "    logourl = [x.find('img').get('src') for x in soup.find_all('td', class_='logo')]\n",
    "    team = [re.match(r\"https.*/wnba/500/(?P<team>[a-z]+)\\.\",x).group('team').upper() for x in logourl]\n",
    "    homeoraway = [teams[x] for x in team]\n",
    "    \n",
    "    #convert to df\n",
    "    shotdescriptions = pd.DataFrame({'Time': times,\n",
    "                          'EventDescription': plays,\n",
    "                          'Score': score,\n",
    "                          'EventTeam': team,\n",
    "                          'HomeOrAway':homeoraway})\n",
    "    shotdescriptions['GameID'] = GameID\n",
    "    shotdescriptions['Date'] = Date\n",
    "    shotdescriptions['GameType'] = GameType\n",
    "    shotdescriptions['WinningTeam'] = WinningTeam\n",
    "    shotdescriptions['AwayTeam'] = AwayTeam\n",
    "    shotdescriptions['HomeTeam'] = HomeTeam\n",
    "    \n",
    "    \n",
    "    #get shot chart data for away team\n",
    "    awayshots = soup.find('ul', class_='shots away-team')\n",
    "    awayshots = awayshots.find_all('li')\n",
    "    awayshotchart = []\n",
    "    for row in awayshots:\n",
    "        coordtext = row.get('style')\n",
    "        match = re.match(r\".*left:(?P<xcoord>[0-9\\.]+)%;top:(?P<ycoord>[0-9\\.]+)%;\",coordtext)\n",
    "        xcoord = match.group('xcoord')\n",
    "        ycoord = match.group('ycoord')\n",
    "        ycoord = str(100-float(ycoord))\n",
    "        row_data = [row.get('class')[0],\n",
    "                    row.get('data-homeaway'),\n",
    "                    row.get('data-period'),\n",
    "                    row.get('data-shooter'),\n",
    "                    row.get('data-text'),\n",
    "                    row.get('id'),\n",
    "                    xcoord,\n",
    "                    ycoord]\n",
    "        awayshotchart.append(row_data)\n",
    "    \n",
    "    #get shot chart data for home team\n",
    "    homeshots = soup.find('ul', class_='shots home-team')\n",
    "    homeshots = homeshots.find_all('li')\n",
    "    homeshotchart = []\n",
    "    for row in homeshots:\n",
    "        coordtext = row.get('style')\n",
    "        match = re.match(r\".*left:(?P<xcoord>[0-9\\.]+)%;top:(?P<ycoord>[0-9\\.]+)%;\",coordtext)\n",
    "        xcoord = match.group('xcoord')\n",
    "        ycoord = match.group('ycoord')\n",
    "        ycoord = str(100-float(ycoord))\n",
    "        row_data = [row.get('class')[0],\n",
    "                    row.get('data-homeaway'),\n",
    "                    row.get('data-period'),\n",
    "                    row.get('data-shooter'),\n",
    "                    row.get('data-text'),\n",
    "                    row.get('id'),\n",
    "                    xcoord,\n",
    "                    ycoord]\n",
    "        homeshotchart.append(row_data)\n",
    "    \n",
    "    awayshotchart = pd.DataFrame(awayshotchart)\n",
    "    homeshotchart = pd.DataFrame(homeshotchart)\n",
    "    \n",
    "    #name columns for shot chart data\n",
    "    awayshotchart.columns = ['ShotOutcome','EventTeam','Quarter','pid','EventDescription','ShotID','xcoord','ycoord']\n",
    "    homeshotchart.columns = ['ShotOutcome','EventTeam','Quarter','pid','EventDescription','ShotID','xcoord','ycoord']\n",
    "    \n",
    "    #join to shot descriptions\n",
    "    playindex = 0\n",
    "    for row in range(len(awayshotchart)):\n",
    "        not_found = True\n",
    "        while not_found:\n",
    "            if shotdescriptions.loc[playindex,'EventDescription']==awayshotchart.loc[row,'EventDescription']:\n",
    "                if shotdescriptions.loc[playindex,'HomeOrAway']=='away':\n",
    "                    shotdescriptions.loc[playindex,'ShotOutcome']=awayshotchart.loc[row,'ShotOutcome']\n",
    "                    shotdescriptions.loc[playindex,'Quarter']=awayshotchart.loc[row,'Quarter']\n",
    "                    shotdescriptions.loc[playindex,'pid']=awayshotchart.loc[row,'pid']\n",
    "                    shotdescriptions.loc[playindex,'ShotID']=awayshotchart.loc[row,'ShotID']\n",
    "                    shotdescriptions.loc[playindex,'xcoord']=awayshotchart.loc[row,'xcoord']\n",
    "                    shotdescriptions.loc[playindex,'ycoord']=awayshotchart.loc[row,'ycoord']\n",
    "                    not_found = False\n",
    "            playindex += 1       \n",
    "    \n",
    "    playindex = 0\n",
    "    for row in range(len(homeshotchart)):\n",
    "        not_found = True\n",
    "        while not_found:\n",
    "            if shotdescriptions.loc[playindex,'EventDescription']==homeshotchart.loc[row,'EventDescription']:\n",
    "                if shotdescriptions.loc[playindex,'HomeOrAway']=='home':\n",
    "                    shotdescriptions.loc[playindex,'ShotOutcome']=homeshotchart.loc[row,'ShotOutcome']\n",
    "                    shotdescriptions.loc[playindex,'Quarter']=homeshotchart.loc[row,'Quarter']\n",
    "                    shotdescriptions.loc[playindex,'pid']=homeshotchart.loc[row,'pid']\n",
    "                    shotdescriptions.loc[playindex,'ShotID']=homeshotchart.loc[row,'ShotID']\n",
    "                    shotdescriptions.loc[playindex,'xcoord']=homeshotchart.loc[row,'xcoord']\n",
    "                    shotdescriptions.loc[playindex,'ycoord']=homeshotchart.loc[row,'ycoord']\n",
    "                    not_found = False\n",
    "            playindex += 1      \n",
    "    \n",
    "    #get quarter numbers and scores\n",
    "    quarter = 1\n",
    "    shotdescriptions.loc[0,'AwayScore'] = 0\n",
    "    shotdescriptions.loc[0,'HomeScore'] = 0\n",
    "    for row in range(0,len(shotdescriptions)):\n",
    "        if re.match('End of Game',shotdescriptions.loc[row,'EventDescription']) :\n",
    "            quarter -= 1 #make the end of the game the same as the last quarter\n",
    "        shotdescriptions.loc[row,'Quarter'] = quarter\n",
    "        match = re.match((\"([0-9]+) - ([0-9]+)\"),shotdescriptions.loc[row,'Score'])\n",
    "        shotdescriptions.loc[row,'AwayScore'] = match.group(1)\n",
    "        shotdescriptions.loc[row,'HomeScore'] = match.group(2)\n",
    "        if re.match('End',shotdescriptions.loc[row,'EventDescription']) :\n",
    "            quarter += 1 #if you reach the end of the quarter, go to the next quarter\n",
    "    \n",
    "    return shotdescriptions"
   ]
  },
  {
   "cell_type": "code",
   "execution_count": 205,
   "metadata": {},
   "outputs": [
    {
     "name": "stdout",
     "output_type": "stream",
     "text": [
      "https://www.espn.com/wnba/recap?gameId=401244185&xhr=1\n"
     ]
    }
   ],
   "source": [
    "espn.get_game_url('playbyplay', \"wnba\", 401244185)\n",
    "data = espn.get_url(url)"
   ]
  },
  {
   "cell_type": "code",
   "execution_count": 209,
   "metadata": {
    "scrolled": true
   },
   "outputs": [
    {
     "name": "stdout",
     "output_type": "stream",
     "text": [
      "https://www.espn.com/wnba/recap?gameId=401230733&xhr=1\n",
      "https://www.espn.com/wnba/recap?gameId=401230734&xhr=1\n",
      "https://www.espn.com/wnba/recap?gameId=401230735&xhr=1\n",
      "https://www.espn.com/wnba/recap?gameId=401230461&xhr=1\n",
      "https://www.espn.com/wnba/recap?gameId=401230462&xhr=1\n",
      "https://www.espn.com/wnba/recap?gameId=401230463&xhr=1\n",
      "https://www.espn.com/wnba/recap?gameId=401230464&xhr=1\n",
      "https://www.espn.com/wnba/recap?gameId=401230465&xhr=1\n",
      "https://www.espn.com/wnba/recap?gameId=401230466&xhr=1\n",
      "https://www.espn.com/wnba/recap?gameId=401230467&xhr=1\n",
      "https://www.espn.com/wnba/recap?gameId=401230468&xhr=1\n",
      "https://www.espn.com/wnba/recap?gameId=401230469&xhr=1\n",
      "https://www.espn.com/wnba/recap?gameId=401230470&xhr=1\n",
      "https://www.espn.com/wnba/recap?gameId=401230471&xhr=1\n",
      "https://www.espn.com/wnba/recap?gameId=401230472&xhr=1\n",
      "https://www.espn.com/wnba/recap?gameId=401230753&xhr=1\n",
      "https://www.espn.com/wnba/recap?gameId=401230754&xhr=1\n",
      "https://www.espn.com/wnba/recap?gameId=401230755&xhr=1\n",
      "https://www.espn.com/wnba/recap?gameId=401230756&xhr=1\n",
      "https://www.espn.com/wnba/recap?gameId=401230757&xhr=1\n",
      "https://www.espn.com/wnba/recap?gameId=401230758&xhr=1\n",
      "https://www.espn.com/wnba/recap?gameId=401230759&xhr=1\n",
      "https://www.espn.com/wnba/recap?gameId=401230760&xhr=1\n",
      "https://www.espn.com/wnba/recap?gameId=401230761&xhr=1\n",
      "https://www.espn.com/wnba/recap?gameId=401230762&xhr=1\n",
      "https://www.espn.com/wnba/recap?gameId=401230763&xhr=1\n",
      "https://www.espn.com/wnba/recap?gameId=401230764&xhr=1\n",
      "https://www.espn.com/wnba/recap?gameId=401230765&xhr=1\n",
      "https://www.espn.com/wnba/recap?gameId=401230766&xhr=1\n",
      "https://www.espn.com/wnba/recap?gameId=401230767&xhr=1\n",
      "https://www.espn.com/wnba/recap?gameId=401230768&xhr=1\n",
      "https://www.espn.com/wnba/recap?gameId=401230769&xhr=1\n",
      "https://www.espn.com/wnba/recap?gameId=401230770&xhr=1\n",
      "https://www.espn.com/wnba/recap?gameId=401230771&xhr=1\n",
      "https://www.espn.com/wnba/recap?gameId=401230772&xhr=1\n",
      "https://www.espn.com/wnba/recap?gameId=401230773&xhr=1\n",
      "https://www.espn.com/wnba/recap?gameId=401230774&xhr=1\n",
      "https://www.espn.com/wnba/recap?gameId=401230775&xhr=1\n",
      "https://www.espn.com/wnba/recap?gameId=401230776&xhr=1\n",
      "https://www.espn.com/wnba/recap?gameId=401230779&xhr=1\n",
      "https://www.espn.com/wnba/recap?gameId=401230777&xhr=1\n",
      "https://www.espn.com/wnba/recap?gameId=401230778&xhr=1\n",
      "https://www.espn.com/wnba/recap?gameId=401230780&xhr=1\n",
      "https://www.espn.com/wnba/recap?gameId=401230781&xhr=1\n",
      "https://www.espn.com/wnba/recap?gameId=401230782&xhr=1\n",
      "https://www.espn.com/wnba/recap?gameId=401230784&xhr=1\n",
      "https://www.espn.com/wnba/recap?gameId=401230783&xhr=1\n",
      "https://www.espn.com/wnba/recap?gameId=401230785&xhr=1\n",
      "https://www.espn.com/wnba/recap?gameId=401230786&xhr=1\n",
      "https://www.espn.com/wnba/recap?gameId=401230787&xhr=1\n",
      "https://www.espn.com/wnba/recap?gameId=401230788&xhr=1\n",
      "https://www.espn.com/wnba/recap?gameId=401230789&xhr=1\n",
      "https://www.espn.com/wnba/recap?gameId=401230790&xhr=1\n",
      "https://www.espn.com/wnba/recap?gameId=401230791&xhr=1\n",
      "https://www.espn.com/wnba/recap?gameId=401230792&xhr=1\n",
      "https://www.espn.com/wnba/recap?gameId=401230793&xhr=1\n",
      "https://www.espn.com/wnba/recap?gameId=401230794&xhr=1\n",
      "https://www.espn.com/wnba/recap?gameId=401230797&xhr=1\n",
      "https://www.espn.com/wnba/recap?gameId=401230795&xhr=1\n",
      "https://www.espn.com/wnba/recap?gameId=401230796&xhr=1\n",
      "https://www.espn.com/wnba/recap?gameId=401230822&xhr=1\n",
      "https://www.espn.com/wnba/recap?gameId=401230821&xhr=1\n",
      "https://www.espn.com/wnba/recap?gameId=401230820&xhr=1\n",
      "https://www.espn.com/wnba/recap?gameId=401230823&xhr=1\n",
      "https://www.espn.com/wnba/recap?gameId=401230824&xhr=1\n",
      "https://www.espn.com/wnba/recap?gameId=401230825&xhr=1\n",
      "https://www.espn.com/wnba/recap?gameId=401230798&xhr=1\n",
      "https://www.espn.com/wnba/recap?gameId=401230826&xhr=1\n",
      "https://www.espn.com/wnba/recap?gameId=401230827&xhr=1\n",
      "https://www.espn.com/wnba/recap?gameId=401230799&xhr=1\n",
      "https://www.espn.com/wnba/recap?gameId=401230828&xhr=1\n",
      "https://www.espn.com/wnba/recap?gameId=401230800&xhr=1\n",
      "https://www.espn.com/wnba/recap?gameId=401230829&xhr=1\n",
      "https://www.espn.com/wnba/recap?gameId=401230830&xhr=1\n",
      "https://www.espn.com/wnba/recap?gameId=401230831&xhr=1\n",
      "https://www.espn.com/wnba/recap?gameId=401230801&xhr=1\n",
      "https://www.espn.com/wnba/recap?gameId=401230832&xhr=1\n",
      "https://www.espn.com/wnba/recap?gameId=401230833&xhr=1\n",
      "https://www.espn.com/wnba/recap?gameId=401230834&xhr=1\n",
      "https://www.espn.com/wnba/recap?gameId=401230835&xhr=1\n",
      "https://www.espn.com/wnba/recap?gameId=401230836&xhr=1\n",
      "https://www.espn.com/wnba/recap?gameId=401230837&xhr=1\n",
      "https://www.espn.com/wnba/recap?gameId=401230838&xhr=1\n",
      "https://www.espn.com/wnba/recap?gameId=401230839&xhr=1\n",
      "https://www.espn.com/wnba/recap?gameId=401230840&xhr=1\n",
      "401230840\n",
      "https://www.espn.com/wnba/recap?gameId=401230802&xhr=1\n",
      "401230802\n",
      "https://www.espn.com/wnba/recap?gameId=401230803&xhr=1\n",
      "401230803\n",
      "https://www.espn.com/wnba/recap?gameId=401230804&xhr=1\n",
      "401230804\n",
      "https://www.espn.com/wnba/recap?gameId=401230841&xhr=1\n",
      "401230841\n",
      "https://www.espn.com/wnba/recap?gameId=401230842&xhr=1\n",
      "401230842\n",
      "https://www.espn.com/wnba/recap?gameId=401230843&xhr=1\n",
      "https://www.espn.com/wnba/recap?gameId=401230844&xhr=1\n",
      "https://www.espn.com/wnba/recap?gameId=401230845&xhr=1\n",
      "https://www.espn.com/wnba/recap?gameId=401230805&xhr=1\n",
      "https://www.espn.com/wnba/recap?gameId=401230806&xhr=1\n",
      "https://www.espn.com/wnba/recap?gameId=401230807&xhr=1\n",
      "https://www.espn.com/wnba/recap?gameId=401230846&xhr=1\n",
      "https://www.espn.com/wnba/recap?gameId=401230847&xhr=1\n",
      "https://www.espn.com/wnba/recap?gameId=401230808&xhr=1\n",
      "https://www.espn.com/wnba/recap?gameId=401230848&xhr=1\n",
      "https://www.espn.com/wnba/recap?gameId=401230849&xhr=1\n",
      "https://www.espn.com/wnba/recap?gameId=401230850&xhr=1\n",
      "https://www.espn.com/wnba/recap?gameId=401230851&xhr=1\n",
      "https://www.espn.com/wnba/recap?gameId=401230809&xhr=1\n",
      "https://www.espn.com/wnba/recap?gameId=401230852&xhr=1\n",
      "https://www.espn.com/wnba/recap?gameId=401230810&xhr=1\n",
      "https://www.espn.com/wnba/recap?gameId=401230811&xhr=1\n",
      "https://www.espn.com/wnba/recap?gameId=401230812&xhr=1\n",
      "https://www.espn.com/wnba/recap?gameId=401230853&xhr=1\n",
      "https://www.espn.com/wnba/recap?gameId=401230854&xhr=1\n",
      "https://www.espn.com/wnba/recap?gameId=401230813&xhr=1\n",
      "https://www.espn.com/wnba/recap?gameId=401230855&xhr=1\n",
      "https://www.espn.com/wnba/recap?gameId=401230814&xhr=1\n",
      "https://www.espn.com/wnba/recap?gameId=401230815&xhr=1\n",
      "https://www.espn.com/wnba/recap?gameId=401230856&xhr=1\n",
      "https://www.espn.com/wnba/recap?gameId=401230857&xhr=1\n",
      "https://www.espn.com/wnba/recap?gameId=401230858&xhr=1\n",
      "https://www.espn.com/wnba/recap?gameId=401230859&xhr=1\n",
      "https://www.espn.com/wnba/recap?gameId=401230860&xhr=1\n",
      "https://www.espn.com/wnba/recap?gameId=401230861&xhr=1\n",
      "https://www.espn.com/wnba/recap?gameId=401230862&xhr=1\n",
      "https://www.espn.com/wnba/recap?gameId=401230863&xhr=1\n",
      "https://www.espn.com/wnba/recap?gameId=401230816&xhr=1\n",
      "https://www.espn.com/wnba/recap?gameId=401230864&xhr=1\n",
      "https://www.espn.com/wnba/recap?gameId=401230865&xhr=1\n",
      "https://www.espn.com/wnba/recap?gameId=401230866&xhr=1\n",
      "https://www.espn.com/wnba/recap?gameId=401230867&xhr=1\n",
      "https://www.espn.com/wnba/recap?gameId=401230868&xhr=1\n",
      "https://www.espn.com/wnba/recap?gameId=401230869&xhr=1\n",
      "https://www.espn.com/wnba/recap?gameId=401230817&xhr=1\n",
      "https://www.espn.com/wnba/recap?gameId=401230818&xhr=1\n",
      "https://www.espn.com/wnba/recap?gameId=401230819&xhr=1\n"
     ]
    }
   ],
   "source": [
    "df = pd.DataFrame()\n",
    "#game_ids_test = [401230835]\n",
    "game_ids_test = game_ids\n",
    "for GameID in game_ids_test:\n",
    "    try:\n",
    "        temp = get_game_data(GameID)\n",
    "        df = df.append(temp)\n",
    "    except:\n",
    "        print(GameID)"
   ]
  },
  {
   "cell_type": "code",
   "execution_count": 210,
   "metadata": {},
   "outputs": [],
   "source": [
    "df.to_csv('espn-pbp-2020.csv',index=False)"
   ]
  },
  {
   "cell_type": "code",
   "execution_count": 208,
   "metadata": {},
   "outputs": [
    {
     "data": {
      "text/plain": [
       "[401230733, 401230734, 401230735]"
      ]
     },
     "execution_count": 208,
     "metadata": {},
     "output_type": "execute_result"
    }
   ],
   "source": [
    "game_ids[0:3]"
   ]
  },
  {
   "cell_type": "code",
   "execution_count": null,
   "metadata": {},
   "outputs": [],
   "source": []
  }
 ],
 "metadata": {
  "kernelspec": {
   "display_name": "Python 3",
   "language": "python",
   "name": "python3"
  },
  "language_info": {
   "codemirror_mode": {
    "name": "ipython",
    "version": 3
   },
   "file_extension": ".py",
   "mimetype": "text/x-python",
   "name": "python",
   "nbconvert_exporter": "python",
   "pygments_lexer": "ipython3",
   "version": "3.8.1"
  }
 },
 "nbformat": 4,
 "nbformat_minor": 4
}
